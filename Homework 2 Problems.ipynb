{
  "cells": [
    {
      "cell_type": "code",
      "execution_count": null,
      "metadata": {
        "id": "tc2LxKug-qyw",
        "outputId": "4eac3a33-5180-4f61-e392-82e344f85cbb"
      },
      "outputs": [
        {
          "name": "stdout",
          "output_type": "stream",
          "text": [
            "Populating the interactive namespace from numpy and matplotlib\n"
          ]
        }
      ],
      "source": [
        "%pylab inline\n",
        "%config InlineBackend.figure_format = 'retina'\n",
        "from ipywidgets import interact"
      ]
    },
    {
      "cell_type": "markdown",
      "metadata": {
        "id": "HwifOiEd-qy0"
      },
      "source": [
        "# Question 1\n",
        "Suppose we invent a new representation for finite precision real numbers based on rational numbers instead of floating point numbers. A rational number is simply the ratio of two integers, and we know how to represent integers on a computer. Rational numbers are dense on the real line, and we can approximate any real number to any desired precision with a rational number. Hence, our data structure is simply two integers, one for the numerator and one for the denominator. Next we need to define arithmetic operations ($+,-,\\cdot, /$). For this to work, our data structure must use only integers and we must define arithmetic operations so that they work only with integers (for example, we cannot assume that we can compute `3.2 + 1.498` because the two numbers are not integers).\n",
        "\n",
        "Let $x = I_1 / I_2$ where $I_1$ and $I_2$ are 16bit integers. Assume for simplicity that $0 \\leq I_1 \\leq I_{\\rm max}$ and $0 < I_2 \\leq I_{\\rm max}$. Hence, each real number represented in finite precision with our new system uses 32bits to store in memory.\n",
        "\n",
        "## A\n",
        "There is no point in creating a data structure for finite precision real numbers if we cannot do arithmetic operations with a computer. Devise formulas to perform addition, multiplication, and division that use only arithmetic operations on integers. Arithmetic operations should take as input two numbers in our format and return a single new number also in our format. For example, if $x_1 = I_{11}/I_{21}$ and $x_2 = I_{12}/I_{22}$, then $x_1 + x_2 = x_3$, where $x_3$ is expressed as the ratio of two integers. For each operation, you need to write $x_3$ as the ratio of two integers each of which are functions of the integers $I_{11}, I_{21}, I_{12}, I_{22}$.\n",
        "\n",
        "## B\n",
        "What is $I_{max}$ for a non negative 16bit integer?\n",
        "\n",
        "## C\n",
        "What is the smallest possible nonzero value that can be represented by our numbers (remember that we are assuming they are non negative)?\n",
        "\n",
        "## D\n",
        "What is the largest possible value that can be represented by our numbers?\n",
        "\n",
        "## E\n",
        "What is the smallest (in absolute value) possible absolute difference between two numbers $x_1$ and $x_2$ such that $x_1 \\neq x_2$?\n",
        "\n",
        "## F\n",
        "What is the smallest (in absolute value) possible relative difference between two numbers $x_1$ and $x_2$ such that $x_1 \\neq x_2$? Use the following for relative difference $$\\frac{|x_1 - x_2| }{ \\max(x_1, x_2)}$$\n",
        "\n",
        "## G\n",
        "How do the above answers compare to 32bit floating point numbers? Is this a good way to represent real numbers on a computer? Why or why not?"
      ]
    },
    {
      "cell_type": "markdown",
      "source": [],
      "metadata": {
        "id": "un1y61PV-YZp"
      }
    },
    {
      "cell_type": "code",
      "source": [],
      "metadata": {
        "id": "5wqcvMTQ-ZTp"
      },
      "execution_count": null,
      "outputs": []
    },
    {
      "cell_type": "markdown",
      "source": [
        "## A\n",
        "\n",
        "#### **Addition**:\n",
        "For addition, we define \\( x_1 + x_2 \\) as \\( x_3 = \\frac{I_{11}}{I_{21}} + \\frac{I_{12}}{I_{22}} \\), which can be expressed as:\n",
        "$$\n",
        "x_3 = \\frac{I_{11} \\cdot I_{22} + I_{12} \\cdot I_{21}}{I_{21} \\cdot I_{22}}\n",
        "$$\n",
        "Here, the numerator and denominator are functions of the integers \\( I_{11}, I_{21}, I_{12}, I_{22} \\).\n",
        "\n",
        "---\n",
        "\n",
        "#### **Subtraction**:\n",
        "For subtraction, we define \\( x_1 - x_2 \\) as \\( x_3 = \\frac{I_{11}}{I_{21}} - \\frac{I_{12}}{I_{22}} \\), which can be expressed as:\n",
        "$$\n",
        "x_3 = \\frac{I_{11} \\cdot I_{22} - I_{12} \\cdot I_{21}}{I_{21} \\cdot I_{22}}\n",
        "$$\n",
        "Similar to addition, the numerator and denominator depend on the integers \\( I_{11}, I_{21}, I_{12}, I_{22} \\).\n",
        "\n",
        "---\n",
        "\n",
        "#### **Multiplication**:\n",
        "For multiplication, the product \\( x_1 \\times x_2 \\) is represented as:\n",
        "$$\n",
        "x_3 = \\frac{I_{11} \\cdot I_{12}}{I_{21} \\cdot I_{22}}\n",
        "$$\n",
        "This involves multiplying both the numerators and denominators of \\( x_1 \\) and \\( x_2 \\).\n",
        "\n",
        "---\n",
        "\n",
        "#### **Division**:\n",
        "For division, the quotient \\( x_1 \\div x_2 \\) is expressed as:\n",
        "$$\n",
        "x_3 = \\frac{I_{11} \\cdot I_{22}}{I_{12} \\cdot I_{21}}\n",
        "$$\n",
        "Here, the numerator of \\( x_1 \\) is multiplied by the denominator of \\( x_2 \\), and the denominator of \\( x_1 \\) is multiplied by the numerator of \\( x_2 \\).\n",
        "\n",
        "---\n",
        "\n",
        "### Summary\n",
        "\n",
        "All these arithmetic operations—addition, subtraction, multiplication, and division—are defined using simple integer arithmetic. The resulting number \\( x_3 \\) is always represented as a ratio of two integers, each derived from the original integers \\( I_{11}, I_{21}, I_{12}, I_{22} \\), ensuring that all operations conform to a format that can be stored and processed entirely using integer arithmetic."
      ],
      "metadata": {
        "id": "Hqexrw6o-bVC"
      }
    },
    {
      "cell_type": "markdown",
      "source": [
        "### B\n",
        "Largest non-negative 16bit integer is $I_{max}=2^{16}-1$."
      ],
      "metadata": {
        "id": "-9Av3D8G-fat"
      }
    },
    {
      "cell_type": "markdown",
      "source": [
        "## C Smallest Non-Zero Number\n",
        "\n",
        "To represent the smallest non-zero $( x = \\frac{I_1}{I_2} $), we set $( I_1 = 1 $) (the smallest value) and $( I_2 = 2^{16} - 1 $) (the largest value).\n",
        "\n",
        "This gives the smallest representable non-zero number:\n",
        "$$\n",
        "x_{\\text{min}} = \\frac{1}{2^{16} - 1}\n",
        "$$"
      ],
      "metadata": {
        "id": "CatCuA6P-jkJ"
      }
    },
    {
      "cell_type": "markdown",
      "source": [
        "### (D) Largest Representable Number\n",
        "\n",
        "Following a similar approach as in (C), we set $( I_1 = 2^{16} - 1 $) (the largest value) and $( I_2 = 1 $) (the smallest value).\n",
        "\n",
        "The largest representable number is:\n",
        "$$\n",
        "x_{\\text{max}} = \\frac{2^{16} - 1}{1} = 2^{16} - 1\n",
        "$$"
      ],
      "metadata": {
        "id": "Dyd88Pmv-kh4"
      }
    },
    {
      "cell_type": "markdown",
      "source": [
        "## E\n",
        "To find the minimum of \\( |x_1 - x_2| \\), we note:\n",
        "\n",
        "$$\n",
        "|x_1 - x_2| = \\frac{I_{11} \\cdot I_{22} - I_{12} \\cdot I_{21}}{I_{21} \\cdot I_{22}}.\n",
        "$$\n",
        "\n",
        "The minimum occurs when:\n",
        "\n",
        "$$\n",
        "x_1 = \\frac{1}{I_{\\text{max}}}, \\quad x_2 = \\frac{1}{I_{\\text{max}} - 1}.\n",
        "$$\n",
        "\n",
        "This gives:\n",
        "\n",
        "$$\n",
        "|x_1 - x_2| = \\frac{1}{I_{\\text{max}} - 1} - \\frac{1}{I_{\\text{max}}} = \\frac{1}{I_{\\text{max}} \\cdot (I_{\\text{max}} - 1)}.\n",
        "$$\n",
        "\n",
        "If another pair \\((x_1', x_2')\\) gives a smaller difference, it must satisfy:\n",
        "\n",
        "$$\n",
        "I'_{21} \\cdot I'_{22} = I_{\\text{max}} \\cdot (I_{\\text{max}} - 1).\n",
        "$$\n",
        "\n",
        "Otherwise:\n",
        "- If \\( I'_{21} = I'_{22} = I_{\\text{max}} \\), the difference would be \\( \\frac{1}{I_{\\text{max}}} \\), which is larger than \\( \\frac{1}{I_{\\text{max}} \\cdot (I_{\\text{max}} - 1)} \\).\n",
        "- If \\( I'_{21} \\cdot I'_{22} < I_{\\text{max}} \\cdot (I_{\\text{max}} - 1) \\), the difference becomes larger as well.\n",
        "\n",
        "Therefore, the smallest possible value is:\n",
        "\n",
        "$$\n",
        "|x_1 - x_2|_{\\text{min}} = \\frac{1}{I_{\\text{max}} \\cdot (I_{\\text{max}} - 1)}.\n",
        "$$\n"
      ],
      "metadata": {
        "id": "rF8am-ae-m5y"
      }
    },
    {
      "cell_type": "markdown",
      "source": [
        "## F\n",
        "We fix \\( I_{12} \\) and \\( I_{21} \\), and analyze the cases:\n",
        "\n",
        "1. **Case: \\( I_{12} I_{21} < (M-1)^2 \\)**  \n",
        "   This case is not possible because the numerator is already minimized (equal to 1), while the denominator is maximized at \\( (M-1)^2 \\). Therefore, no smaller value can be achieved.\n",
        "\n",
        "2. **Case: \\( I_{12} I_{21} = (M-1)M \\)**  \n",
        "   If:\n",
        "\n",
        "   $$\n",
        "   I_{12} I_{21} - I_{11} I_{22} = 1,\n",
        "   $$\n",
        "\n",
        "   then:\n",
        "\n",
        "   $$\n",
        "   M^2 - M - I_{11} I_{22} = 1.\n",
        "   $$\n",
        "\n",
        "   Rearranging gives:\n",
        "\n",
        "   $$\n",
        "   (M-1)^2 = I_{11} I_{22} + 2 - M.\n",
        "   $$\n",
        "\n",
        "   Since \\( I_{11} I_{22} \\) must be an integer, one of \\( I_{11} \\) or \\( I_{22} \\) would equal \\( M \\), while the other would need to be:\n",
        "\n",
        "   $$\n",
        "   M-1-\\frac{1}{M},\n",
        "   $$\n",
        "\n",
        "   which is not an integer. Thus, this case is also not possible.\n",
        "\n",
        "3. **Case: \\( I_{12} I_{21} = M^2 \\)**  \n",
        "   If:\n",
        "\n",
        "   $$\n",
        "   I_{12} I_{21} - I_{11} I_{22} = 1,\n",
        "   $$\n",
        "\n",
        "   then:\n",
        "\n",
        "   $$\n",
        "   M^2 - I_{11} I_{22} = 1.\n",
        "   $$\n",
        "\n",
        "   Rearranging gives:\n",
        "\n",
        "   $$\n",
        "   I_{11} I_{22} = M^2 - 1 = (M-1)(M+1).\n",
        "   $$\n",
        "\n",
        "   In this case, one of \\( I_{11} \\) or \\( I_{22} \\) would need to exceed \\( M \\), which is not allowed. Therefore, this case is also not valid.\n",
        "\n",
        "---\n",
        "\n",
        "### **Conclusion**\n",
        "The minimum relative difference is achieved at:\n",
        "\n",
        "$$\n",
        "(x_1, x_2) = \\left(\\frac{M}{M-1}, \\frac{M-1}{M-2}\\right),\n",
        "$$\n",
        "\n",
        "and the minimum value is:\n",
        "\n",
        "$$\n",
        "\\frac{1}{(M-1)^2}.\n",
        "$$\n"
      ],
      "metadata": {
        "id": "iZjoZovw-pJF"
      }
    },
    {
      "cell_type": "markdown",
      "source": [
        "### (G) Comparison with 32-Bit Floating Point Numbers\n",
        "\n",
        "The 32-bit floating-point system is superior to the 32-bit rational number representation in almost every aspect. Below are the key advantages of 32-bit floating-point numbers:\n",
        "\n",
        "- **Larger Range**: They can represent much larger numbers than the rational number system.\n",
        "- **Smaller Range**: They can also represent much smaller numbers.\n",
        "- **Negative Numbers**: Floating-point numbers can represent negative values, which is a significant limitation in the rational system.\n",
        "- **Smaller Absolute Values**: The smallest absolute value representable in the floating-point system is approximately \\( 2^{-126} \\), much smaller than the rational system.\n",
        "- **Smaller Relative Error**: Floating-point numbers also have a smaller relative error.\n",
        "\n",
        "#### Evidence:\n",
        "\n",
        "Using Python's `numpy` to verify these claims:"
      ],
      "metadata": {
        "id": "GmMlsg3V-rrx"
      }
    },
    {
      "cell_type": "code",
      "source": [
        "import numpy as np\n",
        "\n",
        "# Example: Floating-point can represent larger numbers\n",
        "x = 2**20\n",
        "print(np.float32(x))  # Outputs a valid representation\n",
        "\n",
        "# Example: Floating-point can represent smaller numbers\n",
        "x = 2**-20\n",
        "print(np.float32(x))  # Outputs a valid representation\n",
        "\n",
        "# Example: Floating-point has a smaller smallest relative error\n",
        "M = 2**16 - 1\n",
        "print(np.float32(1 / M**3))  # Can represent values smaller than the rational system's smallest relative difference"
      ],
      "metadata": {
        "colab": {
          "base_uri": "https://localhost:8080/",
          "height": 0
        },
        "id": "UGxKiCvC-tqi",
        "outputId": "956d4dec-2eee-47ce-e638-0ff245fdb5a6"
      },
      "execution_count": 1,
      "outputs": [
        {
          "output_type": "stream",
          "name": "stdout",
          "text": [
            "1048576.0\n",
            "9.536743e-07\n",
            "3.5528763e-15\n"
          ]
        }
      ]
    }
  ],
  "metadata": {
    "kernelspec": {
      "display_name": "Python 3 (ipykernel)",
      "language": "python",
      "name": "python3"
    },
    "language_info": {
      "codemirror_mode": {
        "name": "ipython",
        "version": 3
      },
      "file_extension": ".py",
      "mimetype": "text/x-python",
      "name": "python",
      "nbconvert_exporter": "python",
      "pygments_lexer": "ipython3",
      "version": "3.9.7"
    },
    "colab": {
      "provenance": []
    }
  },
  "nbformat": 4,
  "nbformat_minor": 0
}